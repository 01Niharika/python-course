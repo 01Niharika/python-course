{
 "cells": [
  {
   "attachments": {},
   "cell_type": "markdown",
   "metadata": {},
   "source": [
    "syntax\n",
    "```python\n",
    "def fun_name(<params...>):\n",
    "    statement 1\n",
    "    statement 2\n",
    "    statement 3\n",
    "    ...\n",
    "    statement n\n",
    "    <return value...>\n",
    "\n",
    "    calling a function\n",
    "\n",
    "    fun_name(<params...>)"
   ]
  },
  {
   "cell_type": "code",
   "execution_count": 1,
   "metadata": {},
   "outputs": [],
   "source": [
    "def greetings():\n",
    "    print('welcome to the function')\n",
    "    print('hope you are happy')\n",
    "    print('have a nice day')"
   ]
  },
  {
   "cell_type": "code",
   "execution_count": 4,
   "metadata": {},
   "outputs": [
    {
     "name": "stdout",
     "output_type": "stream",
     "text": [
      "welcome to the function\n",
      "hope you are happy\n",
      "have a nice day\n"
     ]
    }
   ],
   "source": [
    "greetings()"
   ]
  },
  {
   "cell_type": "code",
   "execution_count": 5,
   "metadata": {},
   "outputs": [
    {
     "name": "stdout",
     "output_type": "stream",
     "text": [
      "welcome to the function\n",
      "hope you are happy\n",
      "have a nice day\n",
      "welcome to the function\n",
      "hope you are happy\n",
      "have a nice day\n"
     ]
    }
   ],
   "source": [
    "greetings()\n",
    "greetings()"
   ]
  },
  {
   "cell_type": "code",
   "execution_count": 6,
   "metadata": {},
   "outputs": [
    {
     "name": "stdout",
     "output_type": "stream",
     "text": [
      "welcome to the function\n",
      "hope you are happy\n",
      "have a nice day\n",
      "None\n"
     ]
    }
   ],
   "source": [
    "ans = greetings()\n",
    "print(ans)"
   ]
  },
  {
   "cell_type": "code",
   "execution_count": 121,
   "metadata": {},
   "outputs": [],
   "source": [
    "def random3():\n",
    "    from random import choices\n",
    "    value = list('🤦😒✌️😜😜😉😉😁😎😉😢😜😉😉😉😉😢😢😢😢😎😎😎')\n",
    "    return \"\".join(choices(value,k=3))"
   ]
  },
  {
   "cell_type": "code",
   "execution_count": 122,
   "metadata": {},
   "outputs": [
    {
     "data": {
      "text/plain": [
       "'😉😉😉'"
      ]
     },
     "execution_count": 122,
     "metadata": {},
     "output_type": "execute_result"
    }
   ],
   "source": [
    "random3()"
   ]
  },
  {
   "cell_type": "code",
   "execution_count": 123,
   "metadata": {},
   "outputs": [
    {
     "name": "stdout",
     "output_type": "stream",
     "text": [
      "✌😉😁\n",
      "😢😢😜\n",
      "😜😎😜\n",
      "😢😉✌\n",
      "😉😎😢\n",
      "😉😎😢\n",
      "😒😉😎\n",
      "😢😉😜\n",
      "😢😉😢\n",
      "😢😢😉\n"
     ]
    }
   ],
   "source": [
    "for i in range(10):\n",
    "    print(random3())"
   ]
  },
  {
   "cell_type": "code",
   "execution_count": 130,
   "metadata": {},
   "outputs": [],
   "source": [
    "def random10():\n",
    "    from random import choices\n",
    "    value = list('🍕🍔🍟🌭🍿🍳🥓🥞🥯🧀🫓🍖🌮🌯🍠🍘🍱🍱🍚🥮🥧🍦🍧')\n",
    "    return \"\".join(choices(value,k=10))"
   ]
  },
  {
   "cell_type": "code",
   "execution_count": 131,
   "metadata": {},
   "outputs": [
    {
     "data": {
      "text/plain": [
       "'🍱🍕🍘🌯🥞🍚🌯🍧🍘🍱'"
      ]
     },
     "execution_count": 131,
     "metadata": {},
     "output_type": "execute_result"
    }
   ],
   "source": [
    "random10()"
   ]
  },
  {
   "cell_type": "code",
   "execution_count": 132,
   "metadata": {},
   "outputs": [
    {
     "name": "stdout",
     "output_type": "stream",
     "text": [
      "🫓🍿🌮🍦🍔🌭🥞🥞🥓🥞\n",
      "🍱🥓🌮🥯🍱🥧🧀🍟🧀🥮\n",
      "🌭🍦🥯🍖🌮🍦🍦🍱🍱🍕\n",
      "🌮🥯🥮🍚🍟🌯🌮🥞🌭🍱\n",
      "🥓🌮🌭🍖🥯🍚🍖🍳🍟🍳\n",
      "🍦🍔🍱🥧🍧🥯🍚🍱🥮🍳\n",
      "🌯🌮🍿🍖🍔🌯🍳🧀🍳🍱\n",
      "🌯🥞🍦🌯🍖🍟🫓🍧🍧🍦\n",
      "🌮🌭🍳🍦🍿🥯🥓🌮🥯🫓\n",
      "🍳🥯🍿🍕🍱🍿🍱🌯🍖🥧\n"
     ]
    }
   ],
   "source": [
    "for i in range(10):\n",
    "    print(random10())"
   ]
  },
  {
   "cell_type": "code",
   "execution_count": null,
   "metadata": {},
   "outputs": [],
   "source": []
  }
 ],
 "metadata": {
  "kernelspec": {
   "display_name": "base",
   "language": "python",
   "name": "python3"
  },
  "language_info": {
   "codemirror_mode": {
    "name": "ipython",
    "version": 3
   },
   "file_extension": ".py",
   "mimetype": "text/x-python",
   "name": "python",
   "nbconvert_exporter": "python",
   "pygments_lexer": "ipython3",
   "version": "3.10.8"
  },
  "orig_nbformat": 4,
  "vscode": {
   "interpreter": {
    "hash": "193aa6218da7f76a59dc2bd6ea87d2b224c2417ad29cdf12ab4b4772313a8948"
   }
  }
 },
 "nbformat": 4,
 "nbformat_minor": 2
}
