{
 "cells": [
  {
   "attachments": {},
   "cell_type": "markdown",
   "metadata": {},
   "source": [
    "# data structure\n",
    "- list\n",
    "    - orderd, indexed, mutable, duplicates allowed,`[]`\n",
    "- tuple\n",
    "    - orderd, indexed, **immutable**`()`\n",
    "- set \n",
    "    - unorderd, unindexed, mutbale, **only unique elemnts**`{}`\n",
    "- dict\n",
    "    - orderd, unindexed, mutbale, **key:value pairs**, duplicte values allowed`{}`"
   ]
  },
  {
   "cell_type": "code",
   "execution_count": 1,
   "metadata": {},
   "outputs": [
    {
     "name": "stdout",
     "output_type": "stream",
     "text": [
      "[]\n",
      "[2, 3, 1, 36, 62]\n",
      "['a', 'b', 'c']\n",
      "[1, 'a', 2, 'b', 3, 'c']\n",
      "[1, 2, [3, 4]]\n"
     ]
    }
   ],
   "source": [
    "x = []  # empty list\n",
    "print(x)\n",
    "\n",
    "y = [2,3,1,36,62] # list of integers\n",
    "print(y)\n",
    "\n",
    "z = ['a','b','c'] # list of string\n",
    "print(z)\n",
    "\n",
    "# list of mixed data types\n",
    "w =[1,'a',2,'b',3,'c']\n",
    "print(w)\n",
    "\n",
    "# nested list \n",
    "v = [1,2,[3,4]]\n",
    "print(v)"
   ]
  },
  {
   "cell_type": "code",
   "execution_count": 2,
   "metadata": {},
   "outputs": [
    {
     "name": "stdout",
     "output_type": "stream",
     "text": [
      "[2, 3, 1, 36, 62]\n"
     ]
    }
   ],
   "source": [
    "x.append(5)\n",
    "print(y)"
   ]
  },
  {
   "cell_type": "code",
   "execution_count": 8,
   "metadata": {},
   "outputs": [
    {
     "name": "stdout",
     "output_type": "stream",
     "text": [
      "[2, 3, 62]\n"
     ]
    }
   ],
   "source": [
    "y.remove(1) # remove first occurance of 36 if it exists\n",
    "print(y)"
   ]
  },
  {
   "cell_type": "code",
   "execution_count": 9,
   "metadata": {},
   "outputs": [
    {
     "name": "stdout",
     "output_type": "stream",
     "text": [
      "[2, 3, 50, 62]\n"
     ]
    }
   ],
   "source": [
    "y.insert(2,50)\n",
    "print(y)"
   ]
  },
  {
   "cell_type": "code",
   "execution_count": 10,
   "metadata": {},
   "outputs": [
    {
     "name": "stdout",
     "output_type": "stream",
     "text": [
      "[62, 50, 3, 2]\n"
     ]
    }
   ],
   "source": [
    "y.reverse()\n",
    "print(y)"
   ]
  },
  {
   "cell_type": "code",
   "execution_count": 11,
   "metadata": {},
   "outputs": [
    {
     "name": "stdout",
     "output_type": "stream",
     "text": [
      "[2, 3, 50, 62]\n"
     ]
    }
   ],
   "source": [
    "y.sort()\n",
    "print(y)"
   ]
  },
  {
   "cell_type": "code",
   "execution_count": 14,
   "metadata": {},
   "outputs": [
    {
     "name": "stdout",
     "output_type": "stream",
     "text": [
      "[62, 50, 3, 2]\n"
     ]
    }
   ],
   "source": [
    "y.sort(reverse = True)\n",
    "print(y)"
   ]
  },
  {
   "cell_type": "code",
   "execution_count": null,
   "metadata": {},
   "outputs": [],
   "source": []
  }
 ],
 "metadata": {
  "kernelspec": {
   "display_name": "base",
   "language": "python",
   "name": "python3"
  },
  "language_info": {
   "codemirror_mode": {
    "name": "ipython",
    "version": 3
   },
   "file_extension": ".py",
   "mimetype": "text/x-python",
   "name": "python",
   "nbconvert_exporter": "python",
   "pygments_lexer": "ipython3",
   "version": "3.10.8"
  },
  "orig_nbformat": 4
 },
 "nbformat": 4,
 "nbformat_minor": 2
}
